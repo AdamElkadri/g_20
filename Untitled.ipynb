{
 "cells": [
  {
   "cell_type": "code",
   "execution_count": 22,
   "id": "559616e1",
   "metadata": {},
   "outputs": [],
   "source": [
    "import pandas as pd\n",
    "file_path = r\"C:\\Users\\Arash\\OneDrive - Royal Holloway University of London\\Desktop\\RH\\Python\\Assignments\\24_25\\G_20\\G_20_Data_CN.csv\""
   ]
  },
  {
   "cell_type": "code",
   "execution_count": 23,
   "id": "5270c701",
   "metadata": {},
   "outputs": [
    {
     "name": "stdout",
     "output_type": "stream",
     "text": [
      "Initial Data:\n",
      "     Country Trad_bill_USD Nom_GDP_mill PPP_GDP_mill_USD Nom_GDP_Per_capita  \\\n",
      "0  Argentina         170.1      604,382        1,353,804             12,814   \n",
      "1  Australia         721.4    1,802,006        1,897,885             65,966   \n",
      "2     Brazil         626.4    2,188,419        4,702,004             10,296   \n",
      "3     Canada      1,179.10    2,214,796        2,582,228             53,834   \n",
      "4      China      6,309.60   18,273,357       37,072,086             12,969   \n",
      "\n",
      "  PPP_GDP_PerCapia    HDI     Population Area (km²) IMF Classification  \\\n",
      "0           28,704  0.849     46,300,000  2,780,400           Emerging   \n",
      "1           69,475  0.946     26,141,369  7,692,024           Advanced   \n",
      "2           22,123  0.760    217,240,060  8,515,767           Emerging   \n",
      "3           62,766  0.935     38,743,000  9,984,670           Advanced   \n",
      "4           26,310  0.788  1,411,750,000  9,596,960           Emerging   \n",
      "\n",
      "        Capital         Region IMF Classification.1     Capital.1  \\\n",
      "0  Buenos Aires  South America             Emerging  Buenos Aires   \n",
      "1      Canberra        Oceania             Advanced      Canberra   \n",
      "2     BrasÃ­lia  South America             Emerging     BrasÃ­lia   \n",
      "3        Ottawa  North America             Advanced        Ottawa   \n",
      "4       Beijing           Asia             Emerging       Beijing   \n",
      "\n",
      "        Region.1  \n",
      "0  South America  \n",
      "1        Oceania  \n",
      "2  South America  \n",
      "3  North America  \n",
      "4           Asia  \n"
     ]
    }
   ],
   "source": [
    "# Read the CSV file (using 'latin1' encoding if needed)\n",
    "df = pd.read_csv(file_path, encoding=\"latin1\")\n",
    "print(\"Initial Data:\")\n",
    "print(df.head())"
   ]
  },
  {
   "cell_type": "code",
   "execution_count": 24,
   "id": "d8868ce1",
   "metadata": {},
   "outputs": [
    {
     "name": "stdout",
     "output_type": "stream",
     "text": [
      "\n",
      "Cleaned Data:\n",
      "     Country  Trad_bill_USD  Nom_GDP_mill  PPP_GDP_mill_USD  \\\n",
      "0  Argentina          170.1        604382           1353804   \n",
      "1  Australia          721.4       1802006           1897885   \n",
      "2     Brazil          626.4       2188419           4702004   \n",
      "3     Canada         1179.1       2214796           2582228   \n",
      "4      China         6309.6      18273357          37072086   \n",
      "\n",
      "   Nom_GDP_Per_capita  PPP_GDP_PerCapia    HDI  Population  Area (km²)  \\\n",
      "0               12814             28704  0.849    46300000     2780400   \n",
      "1               65966             69475  0.946    26141369     7692024   \n",
      "2               10296             22123  0.760   217240060     8515767   \n",
      "3               53834             62766  0.935    38743000     9984670   \n",
      "4               12969             26310  0.788  1411750000     9596960   \n",
      "\n",
      "  IMF Classification       Capital         Region IMF Classification.1  \\\n",
      "0           Emerging  Buenos Aires  South America             Emerging   \n",
      "1           Advanced      Canberra        Oceania             Advanced   \n",
      "2           Emerging     BrasÃ­lia  South America             Emerging   \n",
      "3           Advanced        Ottawa  North America             Advanced   \n",
      "4           Emerging       Beijing           Asia             Emerging   \n",
      "\n",
      "      Capital.1       Region.1  \n",
      "0  Buenos Aires  South America  \n",
      "1      Canberra        Oceania  \n",
      "2     BrasÃ­lia  South America  \n",
      "3        Ottawa  North America  \n",
      "4       Beijing           Asia  \n"
     ]
    }
   ],
   "source": [
    "# Remove commas from numeric columns and convert them \n",
    "for col in df.select_dtypes(include='object').columns:\n",
    "    df[col] = df[col].str.replace(\",\", \"\", regex=True)\n",
    "    df[col] = pd.to_numeric(df[col], errors='ignore')\n",
    "\n",
    "print(\"\\nCleaned Data:\")\n",
    "print(df.head())"
   ]
  },
  {
   "cell_type": "code",
   "execution_count": 25,
   "id": "7a7d470d",
   "metadata": {},
   "outputs": [],
   "source": [
    "df.to_csv('G_20_Data_CN_v2.csv')"
   ]
  },
  {
   "cell_type": "code",
   "execution_count": 28,
   "id": "f3f746f2",
   "metadata": {},
   "outputs": [],
   "source": [
    "file_path2 = r\"C:\\Users\\Arash\\OneDrive - Royal Holloway University of London\\Desktop\\RH\\Python\\Assignments\\24_25\\G_20\\G_20_Data_CN_v2.csv\""
   ]
  },
  {
   "cell_type": "code",
   "execution_count": 29,
   "id": "8ab0bbd5",
   "metadata": {},
   "outputs": [],
   "source": [
    "df2 = pd.read_csv(file_path2)\n"
   ]
  },
  {
   "cell_type": "code",
   "execution_count": 30,
   "id": "bed4511f",
   "metadata": {},
   "outputs": [
    {
     "name": "stdout",
     "output_type": "stream",
     "text": [
      "Initial Data:\n",
      "   Unnamed: 0    Country  Trad_bill_USD  Nom_GDP_mill  PPP_GDP_mill_USD  \\\n",
      "0           0  Argentina          170.1        604382           1353804   \n",
      "1           1  Australia          721.4       1802006           1897885   \n",
      "2           2     Brazil          626.4       2188419           4702004   \n",
      "3           3     Canada         1179.1       2214796           2582228   \n",
      "4           4      China         6309.6      18273357          37072086   \n",
      "\n",
      "   Nom_GDP_Per_capita  PPP_GDP_PerCapia    HDI  Population  Area (km²)  \\\n",
      "0               12814             28704  0.849    46300000     2780400   \n",
      "1               65966             69475  0.946    26141369     7692024   \n",
      "2               10296             22123  0.760   217240060     8515767   \n",
      "3               53834             62766  0.935    38743000     9984670   \n",
      "4               12969             26310  0.788  1411750000     9596960   \n",
      "\n",
      "  IMF Classification       Capital         Region IMF Classification.1  \\\n",
      "0           Emerging  Buenos Aires  South America             Emerging   \n",
      "1           Advanced      Canberra        Oceania             Advanced   \n",
      "2           Emerging     BrasÃ­lia  South America             Emerging   \n",
      "3           Advanced        Ottawa  North America             Advanced   \n",
      "4           Emerging       Beijing           Asia             Emerging   \n",
      "\n",
      "      Capital.1       Region.1  \n",
      "0  Buenos Aires  South America  \n",
      "1      Canberra        Oceania  \n",
      "2     BrasÃ­lia  South America  \n",
      "3        Ottawa  North America  \n",
      "4       Beijing           Asia  \n"
     ]
    }
   ],
   "source": [
    "print(\"Initial Data:\")\n",
    "print(df2.head())"
   ]
  },
  {
   "cell_type": "code",
   "execution_count": null,
   "id": "03cf239c",
   "metadata": {},
   "outputs": [],
   "source": []
  }
 ],
 "metadata": {
  "kernelspec": {
   "display_name": "Python 3 (ipykernel)",
   "language": "python",
   "name": "python3"
  },
  "language_info": {
   "codemirror_mode": {
    "name": "ipython",
    "version": 3
   },
   "file_extension": ".py",
   "mimetype": "text/x-python",
   "name": "python",
   "nbconvert_exporter": "python",
   "pygments_lexer": "ipython3",
   "version": "3.10.9"
  }
 },
 "nbformat": 4,
 "nbformat_minor": 5
}
